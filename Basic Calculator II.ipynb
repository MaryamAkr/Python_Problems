class Solution:
    def calculate(self, s: str) -> int:
        stack  = []
        num = 0
        sign = '+'
        s += "+"
        
        for c in (s):
            if c.isdigit():
                num = num*10+int(c)  #becuase we are creating the operand and it can be more than one digit 
            if c in "+,-,*,/":
                if sign == "+":
                    stack.append(num)
                elif sign == "-":
                    stack.append(-num)
                elif sign == "*":
                    pop = stack.pop()
                    stack.append(pop*num)
                elif sign == "/":
                    pop = stack.pop()
                    stack.append(int(pop/num))
            
                sign = c
                num = 0
        
        return sum(stack)
        
        #Complexity Analysis : O(n), where N is the length of the string.

