{
 "cells": [
  {
   "cell_type": "markdown",
   "metadata": {},
   "source": [
    "## Basic Calculator \n",
    "\n",
    "Implement a basic calculator to evaluate a simple expression string.\n",
    "\n",
    "The expression string contains only non-negative integers, +, -, *, / operators and empty spaces . The integer division should truncate toward zero.\n",
    "\n",
    "## Example\n",
    "\n",
    "Input: \"3+2*2\"\n",
    "Output: 7\n"
   ]
  },
  {
   "cell_type": "code",
   "execution_count": 6,
   "metadata": {},
   "outputs": [],
   "source": [
    "class Solution:\n",
    "    def calculate(self, s: str) -> int:\n",
    "        stack  = []\n",
    "        num = 0\n",
    "        sign = \"+\"\n",
    "        s += \"+\"\n",
    "        \n",
    "        for c in (s):\n",
    "            if c.isdigit():\n",
    "                num = num*10+int(c)  #becuase we are creating the operand and it can be more than one digit \n",
    "            if c in \"+,-,*,/\":\n",
    "                if sign == \"+\":\n",
    "                    stack.append(num)\n",
    "                elif sign == \"-\":\n",
    "                    stack.append(-num)\n",
    "                elif sign == \"*\":\n",
    "                    pop = stack.pop()\n",
    "                    stack.append(pop*num)\n",
    "                elif sign == \"/\":\n",
    "                    pop = stack.pop()\n",
    "                    stack.append(int(pop/num))\n",
    "            \n",
    "                sign = c\n",
    "                num = 0\n",
    "        \n",
    "        return sum(stack)\n",
    "\n"
   ]
  },
  {
   "cell_type": "code",
   "execution_count": null,
   "metadata": {},
   "outputs": [],
   "source": []
  }
 ],
 "metadata": {
  "kernelspec": {
   "display_name": "p36workshop",
   "language": "python",
   "name": "p36workshop"
  },
  "language_info": {
   "codemirror_mode": {
    "name": "ipython",
    "version": 3
   },
   "file_extension": ".py",
   "mimetype": "text/x-python",
   "name": "python",
   "nbconvert_exporter": "python",
   "pygments_lexer": "ipython3",
   "version": "3.6.10"
  }
 },
 "nbformat": 4,
 "nbformat_minor": 2
}
