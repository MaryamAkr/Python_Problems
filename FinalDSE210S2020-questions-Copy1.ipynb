{
 "cells": [
  {
   "cell_type": "markdown",
   "metadata": {},
   "source": [
    "# Final DSEI210 S2020 Programming Part\n",
    "\n",
    "Complete the notebook problems on the linux machines. Submit the your completed ipython notebook.\n"
   ]
  },
  {
   "cell_type": "markdown",
   "metadata": {
    "nteract": {
     "transient": {
      "deleting": false
     }
    }
   },
   "source": [
    "# Problem 1: Data Cleaning and Feature Selection for classification\n",
    "The file is here http://bit.ly/2Cxfbe4 and the description is here http://bit.ly/2YdraGQ\n",
    "\n",
    "The goal is to classify the bands/no-bands class\n",
    "\n",
    "You first need to is to clean up the data for classification. The last is the target. Get rid of rows that have bad values.\n",
    "\n",
    "Standardize the numeric files\n",
    "One hot encode nominal values (hint use pandas.getdummies)\n",
    "Perform feature selection with sklearn.feature_selection.RFE to find 5 top features\n",
    "Perform featuer selection with random forest importance to find 5 top featuers\n",
    "Use PCA to find 5 top eigenspaces\n",
    "Run KNN and Logistic Regression on each set of 5 selected features (separately) and the PCA\n",
    "Create feature extraction for accuracy and classification report.\n",
    "Who wins?"
   ]
  },
  {
   "cell_type": "code",
   "execution_count": 1,
   "metadata": {},
   "outputs": [],
   "source": [
    "import pandas as pd\n",
    "\n",
    "data = pd.read_csv('bands.csv')\n",
    "data = data.dropna()\n",
    "data.reset_index(drop=True, inplace=True)\n",
    "\n",
    "target = (data['band_type'] == 'band').astype(int)\n",
    "data_cat = pd.get_dummies(data['cylinder_size'])\n",
    "data_num = data.drop(['Unnamed: 0', 'cylinder_size','band_type'], axis=1)"
   ]
  },
  {
   "cell_type": "code",
   "execution_count": 2,
   "metadata": {},
   "outputs": [
    {
     "data": {
      "text/html": [
       "<div>\n",
       "<style scoped>\n",
       "    .dataframe tbody tr th:only-of-type {\n",
       "        vertical-align: middle;\n",
       "    }\n",
       "\n",
       "    .dataframe tbody tr th {\n",
       "        vertical-align: top;\n",
       "    }\n",
       "\n",
       "    .dataframe thead th {\n",
       "        text-align: right;\n",
       "    }\n",
       "</style>\n",
       "<table border=\"1\" class=\"dataframe\">\n",
       "  <thead>\n",
       "    <tr style=\"text-align: right;\">\n",
       "      <th></th>\n",
       "      <th>plating_tank</th>\n",
       "      <th>viscosity</th>\n",
       "      <th>caliper</th>\n",
       "      <th>ink_temperature</th>\n",
       "      <th>humifity</th>\n",
       "      <th>roughness</th>\n",
       "      <th>press_speed</th>\n",
       "      <th>wax</th>\n",
       "      <th>hardener</th>\n",
       "      <th>current_density</th>\n",
       "      <th>anode_space_ratio</th>\n",
       "      <th>chrome_content</th>\n",
       "      <th>CATALOG</th>\n",
       "      <th>SPIEGEL</th>\n",
       "      <th>TABLOID</th>\n",
       "      <th>catalog</th>\n",
       "      <th>spiegel</th>\n",
       "      <th>tabloid</th>\n",
       "    </tr>\n",
       "  </thead>\n",
       "  <tbody>\n",
       "    <tr>\n",
       "      <th>0</th>\n",
       "      <td>1.0</td>\n",
       "      <td>0.297297</td>\n",
       "      <td>0.1675</td>\n",
       "      <td>0.400</td>\n",
       "      <td>0.437500</td>\n",
       "      <td>0.529412</td>\n",
       "      <td>0.653846</td>\n",
       "      <td>0.806452</td>\n",
       "      <td>0.333333</td>\n",
       "      <td>0.666667</td>\n",
       "      <td>0.627570</td>\n",
       "      <td>1.0</td>\n",
       "      <td>0</td>\n",
       "      <td>0</td>\n",
       "      <td>1</td>\n",
       "      <td>0</td>\n",
       "      <td>0</td>\n",
       "      <td>0</td>\n",
       "    </tr>\n",
       "    <tr>\n",
       "      <th>1</th>\n",
       "      <td>0.0</td>\n",
       "      <td>0.135135</td>\n",
       "      <td>0.4175</td>\n",
       "      <td>0.320</td>\n",
       "      <td>0.375000</td>\n",
       "      <td>0.117647</td>\n",
       "      <td>0.564231</td>\n",
       "      <td>0.806452</td>\n",
       "      <td>0.433333</td>\n",
       "      <td>0.666667</td>\n",
       "      <td>0.716189</td>\n",
       "      <td>1.0</td>\n",
       "      <td>1</td>\n",
       "      <td>0</td>\n",
       "      <td>0</td>\n",
       "      <td>0</td>\n",
       "      <td>0</td>\n",
       "      <td>0</td>\n",
       "    </tr>\n",
       "    <tr>\n",
       "      <th>2</th>\n",
       "      <td>0.0</td>\n",
       "      <td>0.297297</td>\n",
       "      <td>0.4175</td>\n",
       "      <td>0.400</td>\n",
       "      <td>0.479167</td>\n",
       "      <td>0.529412</td>\n",
       "      <td>0.807692</td>\n",
       "      <td>0.741935</td>\n",
       "      <td>0.200000</td>\n",
       "      <td>0.666667</td>\n",
       "      <td>0.675934</td>\n",
       "      <td>1.0</td>\n",
       "      <td>0</td>\n",
       "      <td>0</td>\n",
       "      <td>1</td>\n",
       "      <td>0</td>\n",
       "      <td>0</td>\n",
       "      <td>0</td>\n",
       "    </tr>\n",
       "    <tr>\n",
       "      <th>3</th>\n",
       "      <td>0.0</td>\n",
       "      <td>0.135135</td>\n",
       "      <td>0.3350</td>\n",
       "      <td>0.384</td>\n",
       "      <td>0.395833</td>\n",
       "      <td>0.235294</td>\n",
       "      <td>0.564231</td>\n",
       "      <td>0.806452</td>\n",
       "      <td>0.266667</td>\n",
       "      <td>0.666667</td>\n",
       "      <td>0.594845</td>\n",
       "      <td>1.0</td>\n",
       "      <td>1</td>\n",
       "      <td>0</td>\n",
       "      <td>0</td>\n",
       "      <td>0</td>\n",
       "      <td>0</td>\n",
       "      <td>0</td>\n",
       "    </tr>\n",
       "    <tr>\n",
       "      <th>4</th>\n",
       "      <td>1.0</td>\n",
       "      <td>0.297297</td>\n",
       "      <td>0.4175</td>\n",
       "      <td>0.360</td>\n",
       "      <td>0.375000</td>\n",
       "      <td>0.529412</td>\n",
       "      <td>1.000000</td>\n",
       "      <td>0.806452</td>\n",
       "      <td>0.200000</td>\n",
       "      <td>0.666667</td>\n",
       "      <td>0.675934</td>\n",
       "      <td>1.0</td>\n",
       "      <td>0</td>\n",
       "      <td>0</td>\n",
       "      <td>1</td>\n",
       "      <td>0</td>\n",
       "      <td>0</td>\n",
       "      <td>0</td>\n",
       "    </tr>\n",
       "  </tbody>\n",
       "</table>\n",
       "</div>"
      ],
      "text/plain": [
       "   plating_tank  viscosity  caliper  ink_temperature  humifity  roughness  \\\n",
       "0           1.0   0.297297   0.1675            0.400  0.437500   0.529412   \n",
       "1           0.0   0.135135   0.4175            0.320  0.375000   0.117647   \n",
       "2           0.0   0.297297   0.4175            0.400  0.479167   0.529412   \n",
       "3           0.0   0.135135   0.3350            0.384  0.395833   0.235294   \n",
       "4           1.0   0.297297   0.4175            0.360  0.375000   0.529412   \n",
       "\n",
       "   press_speed       wax  hardener  current_density  anode_space_ratio  \\\n",
       "0     0.653846  0.806452  0.333333         0.666667           0.627570   \n",
       "1     0.564231  0.806452  0.433333         0.666667           0.716189   \n",
       "2     0.807692  0.741935  0.200000         0.666667           0.675934   \n",
       "3     0.564231  0.806452  0.266667         0.666667           0.594845   \n",
       "4     1.000000  0.806452  0.200000         0.666667           0.675934   \n",
       "\n",
       "   chrome_content  CATALOG  SPIEGEL  TABLOID  catalog  spiegel  tabloid  \n",
       "0             1.0        0        0        1        0        0        0  \n",
       "1             1.0        1        0        0        0        0        0  \n",
       "2             1.0        0        0        1        0        0        0  \n",
       "3             1.0        1        0        0        0        0        0  \n",
       "4             1.0        0        0        1        0        0        0  "
      ]
     },
     "execution_count": 2,
     "metadata": {},
     "output_type": "execute_result"
    }
   ],
   "source": [
    "from sklearn import preprocessing\n",
    "\n",
    "x = data_num.values #returns a numpy array\n",
    "min_max_scaler = preprocessing.MinMaxScaler()\n",
    "x_scaled = min_max_scaler.fit_transform(x)\n",
    "data_num_normalized = pd.DataFrame(x_scaled, columns = data_num.columns)\n",
    "\n",
    "normalized_data = pd.concat([data_num_normalized, data_cat], axis=1)\n",
    "normalized_data.head()"
   ]
  },
  {
   "cell_type": "code",
   "execution_count": 3,
   "metadata": {},
   "outputs": [],
   "source": [
    "features = normalized_data.columns\n",
    "X = normalized_data.values\n",
    "y = target.values"
   ]
  },
  {
   "cell_type": "code",
   "execution_count": 4,
   "metadata": {},
   "outputs": [
    {
     "data": {
      "text/plain": [
       "array([False, False, False, False, False, False, False, False, False,\n",
       "       False, False, False, False,  True,  True,  True,  True,  True])"
      ]
     },
     "execution_count": 4,
     "metadata": {},
     "output_type": "execute_result"
    }
   ],
   "source": [
    "from sklearn.feature_selection import RFE\n",
    "from sklearn.svm import SVR\n",
    "\n",
    "estimator = SVR(kernel=\"linear\")\n",
    "selector = RFE(estimator, n_features_to_select=5, step=1)\n",
    "selector = selector.fit(X, y)\n",
    "selector.support_"
   ]
  },
  {
   "cell_type": "code",
   "execution_count": 5,
   "metadata": {},
   "outputs": [],
   "source": [
    "features_by_RFE = features[-5:]"
   ]
  },
  {
   "cell_type": "code",
   "execution_count": 6,
   "metadata": {},
   "outputs": [
    {
     "data": {
      "text/html": [
       "<div>\n",
       "<style scoped>\n",
       "    .dataframe tbody tr th:only-of-type {\n",
       "        vertical-align: middle;\n",
       "    }\n",
       "\n",
       "    .dataframe tbody tr th {\n",
       "        vertical-align: top;\n",
       "    }\n",
       "\n",
       "    .dataframe thead th {\n",
       "        text-align: right;\n",
       "    }\n",
       "</style>\n",
       "<table border=\"1\" class=\"dataframe\">\n",
       "  <thead>\n",
       "    <tr style=\"text-align: right;\">\n",
       "      <th></th>\n",
       "      <th>0</th>\n",
       "    </tr>\n",
       "  </thead>\n",
       "  <tbody>\n",
       "    <tr>\n",
       "      <th>plating_tank</th>\n",
       "      <td>0.001998</td>\n",
       "    </tr>\n",
       "    <tr>\n",
       "      <th>SPIEGEL</th>\n",
       "      <td>0.003773</td>\n",
       "    </tr>\n",
       "    <tr>\n",
       "      <th>spiegel</th>\n",
       "      <td>0.005114</td>\n",
       "    </tr>\n",
       "    <tr>\n",
       "      <th>TABLOID</th>\n",
       "      <td>0.007407</td>\n",
       "    </tr>\n",
       "    <tr>\n",
       "      <th>CATALOG</th>\n",
       "      <td>0.016066</td>\n",
       "    </tr>\n",
       "    <tr>\n",
       "      <th>caliper</th>\n",
       "      <td>0.016303</td>\n",
       "    </tr>\n",
       "    <tr>\n",
       "      <th>roughness</th>\n",
       "      <td>0.024337</td>\n",
       "    </tr>\n",
       "    <tr>\n",
       "      <th>tabloid</th>\n",
       "      <td>0.042934</td>\n",
       "    </tr>\n",
       "    <tr>\n",
       "      <th>wax</th>\n",
       "      <td>0.045027</td>\n",
       "    </tr>\n",
       "    <tr>\n",
       "      <th>viscosity</th>\n",
       "      <td>0.055431</td>\n",
       "    </tr>\n",
       "    <tr>\n",
       "      <th>anode_space_ratio</th>\n",
       "      <td>0.062424</td>\n",
       "    </tr>\n",
       "    <tr>\n",
       "      <th>current_density</th>\n",
       "      <td>0.062626</td>\n",
       "    </tr>\n",
       "    <tr>\n",
       "      <th>hardener</th>\n",
       "      <td>0.067062</td>\n",
       "    </tr>\n",
       "    <tr>\n",
       "      <th>chrome_content</th>\n",
       "      <td>0.067634</td>\n",
       "    </tr>\n",
       "    <tr>\n",
       "      <th>ink_temperature</th>\n",
       "      <td>0.077471</td>\n",
       "    </tr>\n",
       "    <tr>\n",
       "      <th>humifity</th>\n",
       "      <td>0.098713</td>\n",
       "    </tr>\n",
       "    <tr>\n",
       "      <th>catalog</th>\n",
       "      <td>0.116187</td>\n",
       "    </tr>\n",
       "    <tr>\n",
       "      <th>press_speed</th>\n",
       "      <td>0.229495</td>\n",
       "    </tr>\n",
       "  </tbody>\n",
       "</table>\n",
       "</div>"
      ],
      "text/plain": [
       "                          0\n",
       "plating_tank       0.001998\n",
       "SPIEGEL            0.003773\n",
       "spiegel            0.005114\n",
       "TABLOID            0.007407\n",
       "CATALOG            0.016066\n",
       "caliper            0.016303\n",
       "roughness          0.024337\n",
       "tabloid            0.042934\n",
       "wax                0.045027\n",
       "viscosity          0.055431\n",
       "anode_space_ratio  0.062424\n",
       "current_density    0.062626\n",
       "hardener           0.067062\n",
       "chrome_content     0.067634\n",
       "ink_temperature    0.077471\n",
       "humifity           0.098713\n",
       "catalog            0.116187\n",
       "press_speed        0.229495"
      ]
     },
     "execution_count": 6,
     "metadata": {},
     "output_type": "execute_result"
    }
   ],
   "source": [
    "from sklearn.ensemble import RandomForestClassifier\n",
    "from sklearn.datasets import make_classification\n",
    "clf = RandomForestClassifier(max_depth=2, random_state=0)\n",
    "clf.fit(X, y)\n",
    "pd.DataFrame([clf.feature_importances_], columns=features).transpose().sort_values(0)"
   ]
  },
  {
   "cell_type": "code",
   "execution_count": 7,
   "metadata": {},
   "outputs": [],
   "source": [
    "features_by_randomforest = ['ink_temperature','wax','hardener', 'current_density','press_speed']"
   ]
  },
  {
   "cell_type": "code",
   "execution_count": 8,
   "metadata": {},
   "outputs": [
    {
     "data": {
      "text/plain": [
       "array([[-1.32533404e-01,  4.20598174e-02,  3.71154237e-03,\n",
       "        -1.64540441e-02,  8.34809557e-03, -2.73960804e-02,\n",
       "        -9.87049786e-02,  8.53459209e-02,  8.21130277e-03,\n",
       "        -3.50940755e-02, -7.63445764e-03,  1.14172291e-02,\n",
       "         6.46353222e-01,  6.39818196e-02, -7.34141297e-01,\n",
       "         1.16524564e-02,  4.12475868e-03,  8.02904027e-03],\n",
       "       [ 9.81964706e-01, -3.18490056e-02, -4.56768685e-03,\n",
       "        -9.34598678e-03, -4.17819619e-02, -6.76590695e-03,\n",
       "        -3.96492409e-02, -3.26779887e-02, -1.72860528e-03,\n",
       "         8.11885815e-02,  2.77460119e-02, -2.70401920e-02,\n",
       "         7.85570216e-02, -2.12092226e-02, -1.14078119e-01,\n",
       "         4.89178345e-02,  8.23111264e-03, -4.18627410e-04],\n",
       "       [ 1.04674993e-02,  2.38780064e-02, -1.14662283e-02,\n",
       "        -3.51384705e-03,  3.94824582e-02, -5.05852818e-02,\n",
       "         8.03282960e-02,  1.63742593e-02,  2.83160164e-02,\n",
       "         9.18822801e-03, -1.90260178e-02, -1.05519258e-01,\n",
       "        -5.04934358e-01,  7.50886375e-01, -3.85933428e-01,\n",
       "         7.79887095e-02,  2.05563090e-02,  4.14363926e-02],\n",
       "       [ 7.79168448e-02,  8.22612973e-01,  3.47137341e-01,\n",
       "        -3.94329372e-02,  3.46821576e-01,  8.05317124e-02,\n",
       "         3.93289078e-02,  1.10362819e-01, -3.46657942e-02,\n",
       "        -1.78211468e-01, -5.83260804e-02,  6.25625845e-02,\n",
       "         2.20028171e-02,  3.26012119e-02,  7.44073404e-02,\n",
       "        -7.39987495e-02, -1.46452020e-02, -4.03674179e-02],\n",
       "       [-4.55169484e-02,  1.15656108e-01,  1.90208480e-03,\n",
       "         4.23549982e-02,  5.61526147e-02, -6.36596515e-02,\n",
       "        -3.51902345e-02,  1.42065676e-01,  1.24791604e-01,\n",
       "         5.23884901e-02, -8.89648802e-02, -7.28393686e-01,\n",
       "        -1.57037317e-01, -3.50006061e-01, -1.33012274e-01,\n",
       "         4.54980850e-01,  2.79352289e-02,  1.57139573e-01]])"
      ]
     },
     "execution_count": 8,
     "metadata": {},
     "output_type": "execute_result"
    }
   ],
   "source": [
    "from sklearn.decomposition import PCA\n",
    "pca = PCA(n_components=5)\n",
    "pca.fit(X)\n",
    "X_pca = pca.transform(X)\n",
    "pca.components_"
   ]
  },
  {
   "cell_type": "code",
   "execution_count": 9,
   "metadata": {},
   "outputs": [],
   "source": [
    "### Running KNN and Logestic"
   ]
  },
  {
   "cell_type": "code",
   "execution_count": 10,
   "metadata": {},
   "outputs": [
    {
     "name": "stdout",
     "output_type": "stream",
     "text": [
      "Logestic:\n",
      "RFE: 0.6387665198237885\n",
      "RF:  0.579295154185022\n",
      "PCA: 0.6365638766519823\n"
     ]
    }
   ],
   "source": [
    "from sklearn.datasets import load_iris\n",
    "from sklearn.linear_model import LogisticRegression\n",
    "\n",
    "\n",
    "print('Logestic:')\n",
    "\n",
    "X_rfe_features = normalized_data[features_by_RFE].values\n",
    "logestic_rfe = LogisticRegression(random_state=0).fit(X_rfe_features, y)\n",
    "print('RFE:',logestic_rfe.score(X_rfe_features, y))\n",
    "\n",
    "X_rf_features = normalized_data[features_by_randomforest].values\n",
    "logestic_rf = LogisticRegression(random_state=0).fit(X_rf_features, y)\n",
    "print( 'RF: ',logestic_rf.score(X_rf_features, y))\n",
    "\n",
    "logestic_pca = LogisticRegression(random_state=0).fit(X_pca, y)\n",
    "print( 'PCA:', logestic_pca.score(X_pca, y))\n"
   ]
  },
  {
   "cell_type": "code",
   "execution_count": 11,
   "metadata": {},
   "outputs": [
    {
     "name": "stdout",
     "output_type": "stream",
     "text": [
      "KNN:\n",
      "RFE: 0.6277533039647577\n",
      "RF:  0.43171806167400884\n",
      "PCA: 0.8348017621145375\n"
     ]
    }
   ],
   "source": [
    "from sklearn.neighbors import KNeighborsClassifier\n",
    "print('KNN:')\n",
    "knn_rfe_features = KNeighborsClassifier(n_neighbors=2).fit(X_rfe_features, y)\n",
    "print('RFE:', knn_rfe_features.score(X_rfe_features, y))\n",
    "\n",
    "knn_rf = KNeighborsClassifier(n_neighbors=2).fit(X_rfe_features, y)\n",
    "print('RF: ', knn_rf.score(X_rf_features, y))\n",
    "\n",
    "knn_pca = KNeighborsClassifier(n_neighbors=2).fit(X_pca, y)\n",
    "print( 'PCA:',knn_pca.score(X_pca, y))"
   ]
  },
  {
   "cell_type": "markdown",
   "metadata": {},
   "source": [
    "## Problem 2: Clustering evaluation\n",
    "\n",
    "We will be working with this file of wheat seed data: http://bit.ly/seed-data\n",
    "\n",
    "The data is a text file. You will need to parse the file. The first 7 columns are attributes. The last column is a classifier for a wheat type. The goal here is not to do classification but to see how well different clustering algorithms do on this data. \n",
    "\n",
    "1. As usual you need to seperate the data into training and testing, and then you will use cross validation on the training data so you have validation data and real training data.\n",
    "\n",
    "2. Set up PCA to 2d and project while coloring the dots by true class.\n",
    "\n",
    "3. You will use 3 clustering methods. You will try K means, DBScan and Mean shift. The metric  sklearn.metrics.silhouette_score does not requre knowing the labels. Use this score to optimize one hyperparameter for each method.\n",
    "\n",
    "4. Using the same PCA as above show the clustering results by three colors for comparison in a three figure scatterplot.\n",
    "\n",
    "5. Uptill now, except for the coloring, you should **not** have been using the labels in any way. Now evaluate using the test data how well the clustering did by appling the metrics.adjusted_rand_score. Make a bar graph of the performance of the three clustering algoritms."
   ]
  },
  {
   "cell_type": "code",
   "execution_count": 12,
   "metadata": {},
   "outputs": [
    {
     "data": {
      "text/html": [
       "<div>\n",
       "<style scoped>\n",
       "    .dataframe tbody tr th:only-of-type {\n",
       "        vertical-align: middle;\n",
       "    }\n",
       "\n",
       "    .dataframe tbody tr th {\n",
       "        vertical-align: top;\n",
       "    }\n",
       "\n",
       "    .dataframe thead th {\n",
       "        text-align: right;\n",
       "    }\n",
       "</style>\n",
       "<table border=\"1\" class=\"dataframe\">\n",
       "  <thead>\n",
       "    <tr style=\"text-align: right;\">\n",
       "      <th></th>\n",
       "      <th>1</th>\n",
       "      <th>2</th>\n",
       "      <th>3</th>\n",
       "      <th>4</th>\n",
       "      <th>5</th>\n",
       "      <th>6</th>\n",
       "      <th>7</th>\n",
       "      <th>8</th>\n",
       "    </tr>\n",
       "  </thead>\n",
       "  <tbody>\n",
       "    <tr>\n",
       "      <th>0</th>\n",
       "      <td>15.26</td>\n",
       "      <td>14.84</td>\n",
       "      <td>0.8710</td>\n",
       "      <td>5.763</td>\n",
       "      <td>3.312</td>\n",
       "      <td>2.221</td>\n",
       "      <td>5.220</td>\n",
       "      <td>1</td>\n",
       "    </tr>\n",
       "    <tr>\n",
       "      <th>1</th>\n",
       "      <td>14.88</td>\n",
       "      <td>14.57</td>\n",
       "      <td>0.8811</td>\n",
       "      <td>5.554</td>\n",
       "      <td>3.333</td>\n",
       "      <td>1.018</td>\n",
       "      <td>4.956</td>\n",
       "      <td>1</td>\n",
       "    </tr>\n",
       "    <tr>\n",
       "      <th>2</th>\n",
       "      <td>14.29</td>\n",
       "      <td>14.09</td>\n",
       "      <td>0.9050</td>\n",
       "      <td>5.291</td>\n",
       "      <td>3.337</td>\n",
       "      <td>2.699</td>\n",
       "      <td>4.825</td>\n",
       "      <td>1</td>\n",
       "    </tr>\n",
       "    <tr>\n",
       "      <th>3</th>\n",
       "      <td>13.84</td>\n",
       "      <td>13.94</td>\n",
       "      <td>0.8955</td>\n",
       "      <td>5.324</td>\n",
       "      <td>3.379</td>\n",
       "      <td>2.259</td>\n",
       "      <td>4.805</td>\n",
       "      <td>1</td>\n",
       "    </tr>\n",
       "    <tr>\n",
       "      <th>4</th>\n",
       "      <td>16.14</td>\n",
       "      <td>14.99</td>\n",
       "      <td>0.9034</td>\n",
       "      <td>5.658</td>\n",
       "      <td>3.562</td>\n",
       "      <td>1.355</td>\n",
       "      <td>5.175</td>\n",
       "      <td>1</td>\n",
       "    </tr>\n",
       "    <tr>\n",
       "      <th>...</th>\n",
       "      <td>...</td>\n",
       "      <td>...</td>\n",
       "      <td>...</td>\n",
       "      <td>...</td>\n",
       "      <td>...</td>\n",
       "      <td>...</td>\n",
       "      <td>...</td>\n",
       "      <td>...</td>\n",
       "    </tr>\n",
       "    <tr>\n",
       "      <th>205</th>\n",
       "      <td>12.19</td>\n",
       "      <td>13.20</td>\n",
       "      <td>0.8783</td>\n",
       "      <td>5.137</td>\n",
       "      <td>2.981</td>\n",
       "      <td>3.631</td>\n",
       "      <td>4.870</td>\n",
       "      <td>3</td>\n",
       "    </tr>\n",
       "    <tr>\n",
       "      <th>206</th>\n",
       "      <td>11.23</td>\n",
       "      <td>12.88</td>\n",
       "      <td>0.8511</td>\n",
       "      <td>5.140</td>\n",
       "      <td>2.795</td>\n",
       "      <td>4.325</td>\n",
       "      <td>5.003</td>\n",
       "      <td>3</td>\n",
       "    </tr>\n",
       "    <tr>\n",
       "      <th>207</th>\n",
       "      <td>13.20</td>\n",
       "      <td>13.66</td>\n",
       "      <td>0.8883</td>\n",
       "      <td>5.236</td>\n",
       "      <td>3.232</td>\n",
       "      <td>8.315</td>\n",
       "      <td>5.056</td>\n",
       "      <td>3</td>\n",
       "    </tr>\n",
       "    <tr>\n",
       "      <th>208</th>\n",
       "      <td>11.84</td>\n",
       "      <td>13.21</td>\n",
       "      <td>0.8521</td>\n",
       "      <td>5.175</td>\n",
       "      <td>2.836</td>\n",
       "      <td>3.598</td>\n",
       "      <td>5.044</td>\n",
       "      <td>3</td>\n",
       "    </tr>\n",
       "    <tr>\n",
       "      <th>209</th>\n",
       "      <td>12.30</td>\n",
       "      <td>13.34</td>\n",
       "      <td>0.8684</td>\n",
       "      <td>5.243</td>\n",
       "      <td>2.974</td>\n",
       "      <td>5.637</td>\n",
       "      <td>5.063</td>\n",
       "      <td>3</td>\n",
       "    </tr>\n",
       "  </tbody>\n",
       "</table>\n",
       "<p>210 rows × 8 columns</p>\n",
       "</div>"
      ],
      "text/plain": [
       "         1      2       3      4      5      6      7  8\n",
       "0    15.26  14.84  0.8710  5.763  3.312  2.221  5.220  1\n",
       "1    14.88  14.57  0.8811  5.554  3.333  1.018  4.956  1\n",
       "2    14.29  14.09  0.9050  5.291  3.337  2.699  4.825  1\n",
       "3    13.84  13.94  0.8955  5.324  3.379  2.259  4.805  1\n",
       "4    16.14  14.99  0.9034  5.658  3.562  1.355  5.175  1\n",
       "..     ...    ...     ...    ...    ...    ...    ... ..\n",
       "205  12.19  13.20  0.8783  5.137  2.981  3.631  4.870  3\n",
       "206  11.23  12.88  0.8511  5.140  2.795  4.325  5.003  3\n",
       "207  13.20  13.66  0.8883  5.236  3.232  8.315  5.056  3\n",
       "208  11.84  13.21  0.8521  5.175  2.836  3.598  5.044  3\n",
       "209  12.30  13.34  0.8684  5.243  2.974  5.637  5.063  3\n",
       "\n",
       "[210 rows x 8 columns]"
      ]
     },
     "execution_count": 12,
     "metadata": {},
     "output_type": "execute_result"
    }
   ],
   "source": [
    "seeddata = pd.read_csv('seed_data.csv', header=None)\n",
    "seeddata = seeddata.drop([0], axis=1)\n",
    "seeddata"
   ]
  },
  {
   "cell_type": "code",
   "execution_count": 13,
   "metadata": {},
   "outputs": [],
   "source": [
    "target_names = set(seeddata[7].values)"
   ]
  },
  {
   "cell_type": "code",
   "execution_count": 14,
   "metadata": {},
   "outputs": [],
   "source": [
    "from sklearn.model_selection import train_test_split\n",
    "train, test = train_test_split(seeddata, test_size=0.2, random_state=42)\n",
    "X_train = train.iloc[:,:-1]\n",
    "y_train = train.iloc[:, -1]\n",
    "\n",
    "X_test = test.iloc[:,:-1]\n",
    "y_test = test.iloc[:, -1]"
   ]
  },
  {
   "cell_type": "code",
   "execution_count": 15,
   "metadata": {},
   "outputs": [
    {
     "data": {
      "text/html": [
       "<div>\n",
       "<style scoped>\n",
       "    .dataframe tbody tr th:only-of-type {\n",
       "        vertical-align: middle;\n",
       "    }\n",
       "\n",
       "    .dataframe tbody tr th {\n",
       "        vertical-align: top;\n",
       "    }\n",
       "\n",
       "    .dataframe thead th {\n",
       "        text-align: right;\n",
       "    }\n",
       "</style>\n",
       "<table border=\"1\" class=\"dataframe\">\n",
       "  <thead>\n",
       "    <tr style=\"text-align: right;\">\n",
       "      <th></th>\n",
       "      <th>pc1</th>\n",
       "      <th>pc2</th>\n",
       "      <th>target</th>\n",
       "    </tr>\n",
       "  </thead>\n",
       "  <tbody>\n",
       "    <tr>\n",
       "      <th>0</th>\n",
       "      <td>0.663448</td>\n",
       "      <td>-1.417321</td>\n",
       "      <td>1</td>\n",
       "    </tr>\n",
       "    <tr>\n",
       "      <th>1</th>\n",
       "      <td>0.315667</td>\n",
       "      <td>-2.689229</td>\n",
       "      <td>1</td>\n",
       "    </tr>\n",
       "    <tr>\n",
       "      <th>2</th>\n",
       "      <td>-0.660499</td>\n",
       "      <td>-1.131506</td>\n",
       "      <td>1</td>\n",
       "    </tr>\n",
       "    <tr>\n",
       "      <th>3</th>\n",
       "      <td>-1.055276</td>\n",
       "      <td>-1.621190</td>\n",
       "      <td>1</td>\n",
       "    </tr>\n",
       "    <tr>\n",
       "      <th>4</th>\n",
       "      <td>1.619999</td>\n",
       "      <td>-2.183384</td>\n",
       "      <td>1</td>\n",
       "    </tr>\n",
       "  </tbody>\n",
       "</table>\n",
       "</div>"
      ],
      "text/plain": [
       "        pc1       pc2  target\n",
       "0  0.663448 -1.417321       1\n",
       "1  0.315667 -2.689229       1\n",
       "2 -0.660499 -1.131506       1\n",
       "3 -1.055276 -1.621190       1\n",
       "4  1.619999 -2.183384       1"
      ]
     },
     "execution_count": 15,
     "metadata": {},
     "output_type": "execute_result"
    }
   ],
   "source": [
    "from sklearn.decomposition import PCA\n",
    "\n",
    "pca = PCA(n_components=2)\n",
    "X = seeddata.iloc[:,:-1]\n",
    "pca.fit(X)\n",
    "X_pca = pca.transform(X)\n",
    "\n",
    "pca_data = pd.DataFrame(X_pca, columns=['pc1','pc2'])\n",
    "pca_data['target'] = seeddata.iloc[:,-1]\n",
    "pca_data.head()"
   ]
  },
  {
   "cell_type": "code",
   "execution_count": 16,
   "metadata": {},
   "outputs": [
    {
     "data": {
      "text/plain": [
       "<seaborn.axisgrid.PairGrid at 0x1a0a7910e48>"
      ]
     },
     "execution_count": 16,
     "metadata": {},
     "output_type": "execute_result"
    },
    {
     "data": {
      "image/png": "[encoded data removed]",
      "text/plain": [
       "<Figure size 222.375x180 with 1 Axes>"
      ]
     },
     "metadata": {
      "needs_background": "light"
     },
     "output_type": "display_data"
    }
   ],
   "source": [
    "import seaborn as sns\n",
    "sns.pairplot(x_vars=[\"pc1\"], y_vars=[\"pc2\"], data=pca_data, hue=\"target\")"
   ]
  },
  {
   "cell_type": "code",
   "execution_count": 17,
   "metadata": {},
   "outputs": [
    {
     "data": {
      "text/plain": [
       "KMeans(algorithm='auto', copy_x=True, init='k-means++', max_iter=300,\n",
       "       n_clusters=3, n_init=10, n_jobs=4, precompute_distances='auto',\n",
       "       random_state=21, tol=0.0001, verbose=0)"
      ]
     },
     "execution_count": 17,
     "metadata": {},
     "output_type": "execute_result"
    }
   ],
   "source": [
    "from sklearn.cluster import KMeans\n",
    "km = KMeans(n_clusters = 3, n_jobs = 4, random_state=21)\n",
    "km.fit(X_train)"
   ]
  },
  {
   "cell_type": "code",
   "execution_count": 18,
   "metadata": {},
   "outputs": [
    {
     "data": {
      "text/plain": [
       "DBSCAN(algorithm='auto', eps=0.5, leaf_size=30, metric='euclidean',\n",
       "       metric_params=None, min_samples=5, n_jobs=None, p=None)"
      ]
     },
     "execution_count": 18,
     "metadata": {},
     "output_type": "execute_result"
    }
   ],
   "source": [
    "from sklearn.cluster import DBSCAN\n",
    "dbscan = DBSCAN()\n",
    "dbscan.fit(X_train)"
   ]
  },
  {
   "cell_type": "code",
   "execution_count": 19,
   "metadata": {},
   "outputs": [],
   "source": [
    "from sklearn.cluster import MeanShift\n",
    "clustering = MeanShift(bandwidth=2).fit(X_train)"
   ]
  },
  {
   "cell_type": "code",
   "execution_count": 20,
   "metadata": {},
   "outputs": [
    {
     "name": "stdout",
     "output_type": "stream",
     "text": [
      "2 0.5139364276541407\n",
      "3 0.47360551031845716\n",
      "4 0.41288395033852315\n",
      "5 0.3676688867167249\n",
      "6 0.3780329448689182\n"
     ]
    }
   ],
   "source": [
    "from sklearn.metrics import silhouette_score\n",
    "\n",
    "n_clusters = [2,3,4,5,6]\n",
    "\n",
    "for n_cluster in n_clusters:\n",
    "    clusterer = KMeans(n_clusters=n_cluster, random_state=10)\n",
    "    cluster_labels = clusterer.fit_predict(X_train)\n",
    "    silhouette_avg = silhouette_score(X_train, cluster_labels)\n",
    "    print(n_cluster, silhouette_avg)"
   ]
  },
  {
   "cell_type": "code",
   "execution_count": 21,
   "metadata": {},
   "outputs": [
    {
     "name": "stdout",
     "output_type": "stream",
     "text": [
      "0.5 -0.3711226047253379\n",
      "0.6 -0.010763010175376984\n",
      "0.7 0.12638909360143713\n",
      "0.8 0.2641436153270427\n",
      "0.9 0.30461790718602916\n"
     ]
    }
   ],
   "source": [
    "eps_s = [ 0.5, 0.6, 0.7, 0.8, 0.9]\n",
    "\n",
    "\n",
    "for eps in eps_s:\n",
    "    dbscan = DBSCAN(eps=eps)\n",
    "    dbscan_labels = dbscan.fit_predict(X_train)\n",
    "    silhouette_avg = silhouette_score(X_train, dbscan_labels)\n",
    "    print(eps, silhouette_avg)"
   ]
  },
  {
   "cell_type": "code",
   "execution_count": 22,
   "metadata": {},
   "outputs": [
    {
     "name": "stdout",
     "output_type": "stream",
     "text": [
      "10 0.5129314002191017\n",
      "20 0.5156315517359892\n",
      "30 0.5139544793664844\n",
      "40 0.5139544793664844\n",
      "50 0.5139544793664844\n"
     ]
    }
   ],
   "source": [
    "max_iters = [10, 20, 30, 40, 50]\n",
    "\n",
    "for max_iter in max_iters:\n",
    "    meanshift = MeanShift(max_iter=max_iter)\n",
    "    meanshift_labels = meanshift.fit_predict(X_train)\n",
    "    silhouette_avg = silhouette_score(X_train, meanshift_labels)\n",
    "    print(max_iter, silhouette_avg)"
   ]
  },
  {
   "cell_type": "code",
   "execution_count": 23,
   "metadata": {},
   "outputs": [
    {
     "name": "stdout",
     "output_type": "stream",
     "text": [
      "meanshift 0.4884353678140374\n",
      "dbscan    0.31371662380259663\n",
      "kmean     0.46849381954387065\n"
     ]
    }
   ],
   "source": [
    "from sklearn.metrics import adjusted_rand_score\n",
    "meanshift = MeanShift(max_iter=30)\n",
    "meanshift_labels = meanshift.fit_predict(X_train)\n",
    "\n",
    "dbscan = DBSCAN(eps=0.9)\n",
    "dbscan_labels = dbscan.fit_predict(X_train)\n",
    "    \n",
    "clusterer = KMeans(n_clusters=2, random_state=10)\n",
    "cluster_labels = clusterer.fit_predict(X_train)\n",
    "    \n",
    "\n",
    "print( 'meanshift', adjusted_rand_score(meanshift_labels, y_train.values))\n",
    "print( 'dbscan   ', adjusted_rand_score(dbscan_labels, y_train.values))\n",
    "print( 'kmean    ', adjusted_rand_score(cluster_labels, y_train.values))"
   ]
  },
  {
   "cell_type": "code",
   "execution_count": 24,
   "metadata": {},
   "outputs": [],
   "source": [
    "X = seeddata.iloc[:,:-1]\n",
    "\n",
    "meanshift_labels = meanshift.fit_predict(X)\n",
    "dbscan_labels = dbscan.fit_predict(X)\n",
    "cluster_labels = clusterer.predict(X)\n",
    "\n",
    "\n",
    "pca_data['meanshift'] = meanshift_labels\n",
    "pca_data['dbscan'] = dbscan_labels\n",
    "pca_data['kmean'] = cluster_labels"
   ]
  },
  {
   "cell_type": "code",
   "execution_count": 25,
   "metadata": {},
   "outputs": [
    {
     "data": {
      "text/plain": [
       "<seaborn.axisgrid.PairGrid at 0x1a0a9fd1488>"
      ]
     },
     "execution_count": 25,
     "metadata": {},
     "output_type": "execute_result"
    },
    {
     "data": {
      "image/png": "[encoded data removed]",
      "text/plain": [
       "<Figure size 238.125x180 with 1 Axes>"
      ]
     },
     "metadata": {
      "needs_background": "light"
     },
     "output_type": "display_data"
    },
    {
     "data": {
      "image/png": "[encoded data removed]",
      "text/plain": [
       "<Figure size 226x180 with 1 Axes>"
      ]
     },
     "metadata": {
      "needs_background": "light"
     },
     "output_type": "display_data"
    },
    {
     "data": {
      "image/png": "[encoded data removed]",
      "text/plain": [
       "<Figure size 222.375x180 with 1 Axes>"
      ]
     },
     "metadata": {
      "needs_background": "light"
     },
     "output_type": "display_data"
    }
   ],
   "source": [
    "sns.pairplot(x_vars=[\"pc1\"], y_vars=[\"pc2\"], data=pca_data, hue=\"meanshift\")\n",
    "sns.pairplot(x_vars=[\"pc1\"], y_vars=[\"pc2\"], data=pca_data, hue=\"dbscan\")\n",
    "sns.pairplot(x_vars=[\"pc1\"], y_vars=[\"pc2\"], data=pca_data, hue=\"kmean\")"
   ]
  },
  {
   "cell_type": "markdown",
   "metadata": {},
   "source": [
    "## Problem 3: Ensemble Learning\n",
    "\n",
    "Apply the Bagging meta-estimator of SKLEARN to an logistic regression classification, and compare with random forest, and unbagged logistic regression on the sklearn land cover fetch_covtype data set. Compare with and without balancing the classes. Make a classification report. What is the worst class for each classifer."
   ]
  },
  {
   "cell_type": "markdown",
   "metadata": {},
   "source": [
    "\n"
   ]
  }
 ],
 "metadata": {
  "kernelspec": {
   "display_name": "p36workshop",
   "language": "python",
   "name": "p36workshop"
  },
  "language_info": {
   "codemirror_mode": {
    "name": "ipython",
    "version": 3
   },
   "file_extension": ".py",
   "mimetype": "text/x-python",
   "name": "python",
   "nbconvert_exporter": "python",
   "pygments_lexer": "ipython3",
   "version": "3.6.10"
  },
  "nteract": {
   "version": "0.22.4"
  },
  "toc": {
   "base_numbering": 1,
   "nav_menu": {},
   "number_sections": false,
   "sideBar": false,
   "skip_h1_title": false,
   "title_cell": "Table of Contents",
   "title_sidebar": "Contents",
   "toc_cell": false,
   "toc_position": {},
   "toc_section_display": false,
   "toc_window_display": false
  }
 },
 "nbformat": 4,
 "nbformat_minor": 2
}
